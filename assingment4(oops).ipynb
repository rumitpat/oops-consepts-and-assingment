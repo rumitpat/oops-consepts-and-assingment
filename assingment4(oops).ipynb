{
 "cells": [
  {
   "cell_type": "code",
   "execution_count": 3,
   "metadata": {},
   "outputs": [
    {
     "name": "stdout",
     "output_type": "stream",
     "text": [
      "A disp()\n"
     ]
    }
   ],
   "source": [
    "class A():\n",
    "    def disp(self):\n",
    "        print(\"A disp()\")\n",
    "class B(A):\n",
    "    pass\n",
    "obj =B()\n",
    "obj.disp()"
   ]
  },
  {
   "cell_type": "code",
   "execution_count": 4,
   "metadata": {},
   "outputs": [],
   "source": [
    "#using single inheritance we essly axis the info from the other class "
   ]
  },
  {
   "cell_type": "code",
   "execution_count": 5,
   "metadata": {},
   "outputs": [
    {
     "name": "stdout",
     "output_type": "stream",
     "text": [
      "test of B called\n",
      "test of C called\n",
      "test of A called\n"
     ]
    }
   ],
   "source": [
    "class A:\n",
    "    def test(self):\n",
    "        print(\"test of A called\")\n",
    "class B(A):\n",
    "    def test(self):\n",
    "        print(\"test of B called\")\n",
    "        super().test()\n",
    "class C(A):\n",
    "    def test(self):\n",
    "        print(\"test of C called\")\n",
    "        super().test()\n",
    "        \n",
    "class D(B,C):\n",
    "    def test2(self):\n",
    "        print(\"test of D called\")\n",
    "    \n",
    "obj =D()\n",
    "obj.test()    "
   ]
  },
  {
   "cell_type": "code",
   "execution_count": 8,
   "metadata": {},
   "outputs": [
    {
     "name": "stdout",
     "output_type": "stream",
     "text": [
      "123\n"
     ]
    }
   ],
   "source": [
    "class Sales:\n",
    "    def __init__(self,id):\n",
    "        self.id =id\n",
    "        id =100\n",
    "val =Sales(123)\n",
    "print(val.id)"
   ]
  },
  {
   "cell_type": "code",
   "execution_count": 9,
   "metadata": {},
   "outputs": [],
   "source": [
    "#line by line execution happened"
   ]
  },
  {
   "cell_type": "code",
   "execution_count": 10,
   "metadata": {},
   "outputs": [],
   "source": [
    "##Write a program In Single Inheritance:\n",
    "#Base class : Vehical\n",
    "#Derive class : Vehical Categories\n",
    "#Display the Functions Values Which can you create in your class"
   ]
  },
  {
   "cell_type": "code",
   "execution_count": 4,
   "metadata": {},
   "outputs": [
    {
     "name": "stdout",
     "output_type": "stream",
     "text": [
      "Honda\n",
      "xpt342\n",
      "bick name is Honda and model_nu is xpt342: \n",
      "petrol\n"
     ]
    }
   ],
   "source": [
    "class Vehical:\n",
    "    def __init__(self,name,model_nu):\n",
    "        self.name =name\n",
    "        self.model_nu =model_nu\n",
    "    def printinfo(self):\n",
    "        print(\"bick name is {} and model_nu is {}: \".format(self.name,self.model_nu))\n",
    "class VehicalCategories(Vehical):\n",
    "    pass\n",
    "    def Engintype(self,engin_type):\n",
    "        print(engin_type)\n",
    "v1 =VehicalCategories(\"Honda\",\"xpt342\")\n",
    "print(v1.name)\n",
    "print(v1.model_nu)\n",
    "v1.printinfo()\n",
    "v1.Engintype(\"petrol\")"
   ]
  },
  {
   "cell_type": "code",
   "execution_count": 5,
   "metadata": {},
   "outputs": [
    {
     "name": "stdout",
     "output_type": "stream",
     "text": [
      "m of C called\n"
     ]
    }
   ],
   "source": [
    "class A:\n",
    "    def m(self):\n",
    "        print(\"m of a A called\")\n",
    "class B(A):\n",
    "    pass\n",
    "class C(A):\n",
    "    def m(self):\n",
    "        print(\"m of C called\")\n",
    "    \n",
    "class D(B,C):\n",
    "    pass\n",
    "\n",
    "x =D()\n",
    "x.m()\n"
   ]
  },
  {
   "cell_type": "code",
   "execution_count": 7,
   "metadata": {},
   "outputs": [],
   "source": [
    "#Use Overriding & Print the o/p\n",
    "#1st class India,\n",
    "#2nd Class USA\n",
    "#make methods in above class:- Capital,Language"
   ]
  },
  {
   "cell_type": "code",
   "execution_count": 13,
   "metadata": {},
   "outputs": [
    {
     "name": "stdout",
     "output_type": "stream",
     "text": [
      "dolar\n",
      "English\n",
      "Ruppes\n",
      "Hindi\n"
     ]
    }
   ],
   "source": [
    "class India:\n",
    "    def Capital(self):\n",
    "        print(\"Ruppes\")\n",
    "    def Language(self):\n",
    "        print(\"Hindi\")\n",
    "class USA:\n",
    "    def Capital(self):\n",
    "        print(\"dolar\")\n",
    "    def Language(self):\n",
    "        print(\"English\")\n",
    "u1 =USA()\n",
    "H1 =India()\n",
    "u1.Capital()\n",
    "u1.Language()\n",
    "H1.Capital()\n",
    "H1.Language()"
   ]
  },
  {
   "cell_type": "code",
   "execution_count": 1,
   "metadata": {},
   "outputs": [],
   "source": [
    "#hierarchical example"
   ]
  },
  {
   "cell_type": "code",
   "execution_count": 26,
   "metadata": {},
   "outputs": [
    {
     "name": "stdout",
     "output_type": "stream",
     "text": [
      "this is a parent class : \n",
      "this is a child2 class : \n",
      "this is a parent class : \n"
     ]
    }
   ],
   "source": [
    "class Parent:\n",
    "    def parent_name(self):\n",
    "        print(\"this is a parent class : \")\n",
    "class Child1(Parent):\n",
    "    def child1_name(self):\n",
    "        print(\"this is a child1 class : \")\n",
    "class Child2(Parent):\n",
    "    def child2_name(self):\n",
    "        print(\"this is a child2 class : \")\n",
    "        super().parent_name()    \n",
    "obj1 =Child2()\n",
    "obj1.parent_name()\n",
    "obj1.child2_name()"
   ]
  },
  {
   "cell_type": "code",
   "execution_count": 27,
   "metadata": {},
   "outputs": [],
   "source": [
    "#hybried "
   ]
  },
  {
   "cell_type": "code",
   "execution_count": 34,
   "metadata": {},
   "outputs": [
    {
     "name": "stdout",
     "output_type": "stream",
     "text": [
      "sstudent 3 and all student information : \n",
      "student 1 and 2 information : \n",
      "student2 information : \n"
     ]
    }
   ],
   "source": [
    "class Student:\n",
    "    def student_(self):\n",
    "        print(\"all student information : \")\n",
    "class Student1(Student):\n",
    "    def studen1_(self):\n",
    "        print(\"student1 information : \")\n",
    "class Student2(Student):\n",
    "    def student2_(self):\n",
    "        print(\"student2 information : \")\n",
    "class Student3(Student1,Student2):\n",
    "    def student3_(self):\n",
    "        print(\"student 1 and 2 information : \")\n",
    "class Student4(Student3,Student):\n",
    "    def student4_(self):\n",
    "        print(\"sstudent 3 and all student information : \")\n",
    "        \n",
    "obj =Student4()    \n",
    "obj.student4_()\n",
    "obj.student3_()\n",
    "obj.student2_()"
   ]
  },
  {
   "cell_type": "code",
   "execution_count": null,
   "metadata": {},
   "outputs": [],
   "source": []
  },
  {
   "cell_type": "code",
   "execution_count": null,
   "metadata": {},
   "outputs": [],
   "source": []
  },
  {
   "cell_type": "code",
   "execution_count": null,
   "metadata": {},
   "outputs": [],
   "source": []
  },
  {
   "cell_type": "code",
   "execution_count": null,
   "metadata": {},
   "outputs": [],
   "source": []
  },
  {
   "cell_type": "code",
   "execution_count": null,
   "metadata": {},
   "outputs": [],
   "source": []
  },
  {
   "cell_type": "code",
   "execution_count": null,
   "metadata": {},
   "outputs": [],
   "source": []
  }
 ],
 "metadata": {
  "kernelspec": {
   "display_name": "Python 3",
   "language": "python",
   "name": "python3"
  },
  "language_info": {
   "codemirror_mode": {
    "name": "ipython",
    "version": 3
   },
   "file_extension": ".py",
   "mimetype": "text/x-python",
   "name": "python",
   "nbconvert_exporter": "python",
   "pygments_lexer": "ipython3",
   "version": "3.8.3"
  }
 },
 "nbformat": 4,
 "nbformat_minor": 4
}
