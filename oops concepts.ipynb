{
 "cells": [
  {
   "cell_type": "markdown",
   "metadata": {},
   "source": [
    "# function"
   ]
  },
  {
   "cell_type": "code",
   "execution_count": 1,
   "metadata": {},
   "outputs": [],
   "source": [
    "def myfunction():\n",
    "    print(\"my name is rumit\")    "
   ]
  },
  {
   "cell_type": "code",
   "execution_count": 2,
   "metadata": {},
   "outputs": [
    {
     "name": "stdout",
     "output_type": "stream",
     "text": [
      "my name is rumit\n"
     ]
    }
   ],
   "source": [
    "myfunction()"
   ]
  },
  {
   "cell_type": "code",
   "execution_count": 6,
   "metadata": {},
   "outputs": [],
   "source": [
    "def calculater(a,b):\n",
    "    z =a+b\n",
    "    y =a-b\n",
    "    w =a*b\n",
    "    x =a/b\n",
    "    print(z)\n",
    "    print(y)\n",
    "    print(w)\n",
    "    print(x)"
   ]
  },
  {
   "cell_type": "code",
   "execution_count": 7,
   "metadata": {},
   "outputs": [
    {
     "name": "stdout",
     "output_type": "stream",
     "text": [
      "50\n",
      "-10\n",
      "600\n",
      "0.6666666666666666\n"
     ]
    }
   ],
   "source": [
    "calculater(20,30)"
   ]
  },
  {
   "cell_type": "markdown",
   "metadata": {},
   "source": [
    "# class"
   ]
  },
  {
   "cell_type": "code",
   "execution_count": 38,
   "metadata": {},
   "outputs": [
    {
     "name": "stdout",
     "output_type": "stream",
     "text": [
      "person first_name: Rumit\n",
      "person middel_name: Mukesh bhai\n",
      "person last_name : Gevariya\n",
      "person age :21\n",
      "person contact_nu :9925881941\n",
      " \n",
      " \n",
      "Rumit Mukesh bhai Gevariya\n",
      "Elligibal for a voting\n"
     ]
    }
   ],
   "source": [
    "#example =1\n",
    "class Person:\n",
    "    def __init__ (self,first_name,middel_name,last_name,age,contact_nu):\n",
    "        self.first_name =first_name\n",
    "        self.middel_name =middel_name\n",
    "        self.last_name =last_name\n",
    "        self.age =str(age)\n",
    "        self.contact_nu =str(contact_nu)\n",
    "    def printinfo(self):\n",
    "        print(\"person first_name: \" + self.first_name)\n",
    "        print(\"person middel_name: \"+ self.middel_name)\n",
    "        print(\"person last_name : \" + self.last_name)\n",
    "        print(\"person age :\"+ self.age)\n",
    "        print(\"person contact_nu :\"+self.contact_nu)\n",
    "        print(\" \")\n",
    "        print(\" \")\n",
    "        \n",
    "        \n",
    "    def fullname(self):\n",
    "        return \"{} {} {}\".format(self.first_name,self.middel_name,self.last_name)\n",
    "        \n",
    "    def elligibalforvote(self):\n",
    "        if self.age>=str(18):\n",
    "            print(\"Elligibal for a voting\")\n",
    "        else:\n",
    "            print(\"Not Elligibal for a voting\")\n",
    "                   \n",
    "        \n",
    "p1 =Person(\"Rumit\",\"Mukesh bhai\",\"Gevariya\",21,9925881941)\n",
    "#p1.printinfo()\n",
    "Person.printinfo(p1)\n",
    "print(p1.fullname())\n",
    "p1.elligibalforvote()"
   ]
  },
  {
   "cell_type": "code",
   "execution_count": 25,
   "metadata": {},
   "outputs": [],
   "source": [
    "#other way to define a class"
   ]
  },
  {
   "cell_type": "code",
   "execution_count": 31,
   "metadata": {},
   "outputs": [
    {
     "name": "stdout",
     "output_type": "stream",
     "text": [
      "person first_name: rumit\n",
      "person middel_name: mukeshbhai\n",
      "person last_name : gevariya\n",
      "person age :21\n",
      "person contact_nu :9925881941\n"
     ]
    }
   ],
   "source": [
    "class Person:\n",
    "    def __init__ (self):\n",
    "        pass\n",
    "    def printinfo(self,first_name,middel_name,last_name,age,contact_nu):\n",
    "        print(\"person first_name: \" + first_name)\n",
    "        print(\"person middel_name: \"+ middel_name)\n",
    "        print(\"person last_name : \" + last_name)\n",
    "        print(\"person age :\"+age)\n",
    "        print(\"person contact_nu :\"+str(contact_nu))\n",
    "p1 =Person()\n",
    "p1.printinfo(\"rumit\",\"mukeshbhai\",\"gevariya\",\"21\",\"9925881941\")\n",
    "#Person.printinfo(p1)"
   ]
  },
  {
   "cell_type": "code",
   "execution_count": 37,
   "metadata": {},
   "outputs": [
    {
     "name": "stdout",
     "output_type": "stream",
     "text": [
      "dells\n",
      "lenovo\n",
      "31500.0\n",
      "21000.0\n",
      "31500.0\n"
     ]
    }
   ],
   "source": [
    "#example 2\n",
    "class Laptop:\n",
    "    def __init__(self,laptop_name,processer,ram,price,storage):\n",
    "        self.laptop_name =laptop_name\n",
    "        self.processer =processer\n",
    "        self.ram =ram\n",
    "        self.price =price\n",
    "        self.storage =storage\n",
    "    def applyeddistcount(self):\n",
    "        distcountper =30\n",
    "        a =int(self.price) - ((int(self.price)*distcountper)/100)\n",
    "        return a\n",
    "    \n",
    "    \n",
    "l1 =Laptop(\"dells\",\"i5\",\"8gb\",\"45000\",\"1tb\")\n",
    "l2 =Laptop(\"lenovo\",\"i3\",\"4gb\",\"30000\",\"1tb\")\n",
    "l3 =Laptop(\"hp\",\"i5\",\"8gb\",\"45000\",\"1tb\")\n",
    "print(l1.laptop_name)\n",
    "print(l2.laptop_name)\n",
    "print(l1.applyeddistcount())\n",
    "print(l2.applyeddistcount())\n",
    "print(l3.applyeddistcount())"
   ]
  },
  {
   "cell_type": "code",
   "execution_count": 1,
   "metadata": {},
   "outputs": [],
   "source": [
    "#single inheritance"
   ]
  },
  {
   "cell_type": "code",
   "execution_count": 58,
   "metadata": {},
   "outputs": [
    {
     "name": "stdout",
     "output_type": "stream",
     "text": [
      "rumit\n",
      "21\n",
      "9925881941\n"
     ]
    }
   ],
   "source": [
    "class Person:\n",
    "    def __init__(self,name,age,mobile_nu):\n",
    "        self.name =name\n",
    "        self.age =age\n",
    "        self.mobile_nu =mobile_nu\n",
    "    def printinfo(self):\n",
    "        print(self.name)\n",
    "        print(self.age)\n",
    "        print(self.mobile_nu)\n",
    "class Student(Person):\n",
    "    def show(self):\n",
    "        print(\"i am astudent\")\n",
    "    def add(self,a,b):\n",
    "        c =a+b\n",
    "        print(c)\n",
    "s1 =Student(\"rumit\",\"21\",\"9925881941\")        \n",
    "#s1.show()      \n",
    "s1.printinfo()\n",
    "#p1 =Person(\"rumit\",\"21\",\"9925881941\")\n",
    "#p1.printinfo()\n",
    "#s1.add(20,30)\n",
    "#rint(s1.name)"
   ]
  },
  {
   "cell_type": "code",
   "execution_count": 40,
   "metadata": {},
   "outputs": [],
   "source": [
    "#example"
   ]
  },
  {
   "cell_type": "markdown",
   "metadata": {},
   "source": [
    "#  inheritance"
   ]
  },
  {
   "cell_type": "markdown",
   "metadata": {},
   "source": [
    "### Inheritance : we can inherit the one class property to other class Inheritance provides code reusability to the program\n",
    "types of Inheritance: 1) Single\n",
    "                      2) Multiple\n",
    "                      3) Multilevel\n",
    "                      4) Hybrid\n",
    "                      5) Hirerchical"
   ]
  },
  {
   "cell_type": "code",
   "execution_count": 42,
   "metadata": {},
   "outputs": [],
   "source": [
    "#1) Single inheritance"
   ]
  },
  {
   "cell_type": "code",
   "execution_count": 60,
   "metadata": {},
   "outputs": [
    {
     "name": "stdout",
     "output_type": "stream",
     "text": [
      "person name is rumit and age is 21 :\n"
     ]
    }
   ],
   "source": [
    "class Person():\n",
    "    def __init__(xyz,name,age):\n",
    "        .name = name\n",
    "        self.age =age\n",
    "    def personinfo(self):\n",
    "        print(\"person name is {} and age is {} :\".format(self.name,self.age))\n",
    "class Student(Person):\n",
    "    pass\n",
    "s1 =Student(\"rumit\",\"21\")\n",
    "s1.personinfo()"
   ]
  },
  {
   "cell_type": "code",
   "execution_count": 61,
   "metadata": {},
   "outputs": [],
   "source": [
    "#multiple"
   ]
  },
  {
   "cell_type": "code",
   "execution_count": 117,
   "metadata": {},
   "outputs": [
    {
     "name": "stdout",
     "output_type": "stream",
     "text": [
      "0.6666666666666666\n",
      "-1\n",
      "6\n"
     ]
    }
   ],
   "source": [
    "class Callulation1():\n",
    "    def Sum(self,a,b):\n",
    "        return a+b\n",
    "class Callulation2():\n",
    "    def Sub(self,a,b):\n",
    "        return a-b\n",
    "#c2 =Callulation2()\n",
    "#print(c2.Sub(20,30))\n",
    "#print(c2.Sum(20,30))\n",
    "class Callulation3(Callulation1,Callulation2):\n",
    "    def Div(self,a,b):\n",
    "        return a/b\n",
    "c3 = Callulation3()\n",
    "print(c3.Div(2,3))\n",
    "print(c3.Sub(2,3))\n",
    "print(c3.Sum(2,4))"
   ]
  },
  {
   "cell_type": "code",
   "execution_count": 119,
   "metadata": {},
   "outputs": [],
   "source": [
    "#multilevel"
   ]
  },
  {
   "cell_type": "code",
   "execution_count": 132,
   "metadata": {},
   "outputs": [
    {
     "name": "stdout",
     "output_type": "stream",
     "text": [
      "son name is rumit and age is 21 :\n",
      "Father name is mukeshbhai and age is 40 :\n",
      "grandfather name is kanubhai and age is 65 :\n"
     ]
    }
   ],
   "source": [
    "class Grandfather():\n",
    "    def grandfatherinfo(self,name,age):\n",
    "         print(\"grandfather name is {} and age is {} :\".format(name,age))\n",
    "class Father(Grandfather):\n",
    "    def father(self,name,age):\n",
    "        print(\"Father name is {} and age is {} :\".format(name,age))\n",
    "class Son(Father):\n",
    "    def son(self,name,age):\n",
    "        print(\"son name is {} and age is {} :\".format(name,age))\n",
    "\n",
    "        \n",
    "s1 =Son()\n",
    "s1.son(\"rumit\",\"21\")\n",
    "s1.father(\"mukeshbhai\",\"40\")\n",
    "s1.grandfatherinfo(\"kanubhai\",\"65\")"
   ]
  },
  {
   "cell_type": "code",
   "execution_count": 133,
   "metadata": {},
   "outputs": [],
   "source": [
    "#overriding"
   ]
  },
  {
   "cell_type": "code",
   "execution_count": 136,
   "metadata": {},
   "outputs": [
    {
     "name": "stdout",
     "output_type": "stream",
     "text": [
      "speaking\n"
     ]
    }
   ],
   "source": [
    "class Animal:  \n",
    "    def speak(self):  \n",
    "        print(\"speaking\")  \n",
    "class Dog(Animal):  \n",
    "    def speak(self):  \n",
    "        print(\"Barking\")  \n",
    "d = Dog()  \n",
    "d.speak() "
   ]
  },
  {
   "cell_type": "markdown",
   "metadata": {},
   "source": [
    "# Encapsulation"
   ]
  },
  {
   "cell_type": "code",
   "execution_count": 22,
   "metadata": {},
   "outputs": [],
   "source": [
    "# like in this there are two typs:\n",
    "#1) private method:  in this we cannot modify a variable and data outside the class\n",
    "#2) general method:"
   ]
  },
  {
   "cell_type": "code",
   "execution_count": 23,
   "metadata": {},
   "outputs": [],
   "source": [
    "#using oops in python ,we can restrict access to methods and variables.\n",
    "#this prevent data from direct modification which is called encapsulation\n",
    "#in python we denote private attribute using underscore as prefix i.e single\"_\"or double\"__\".\n",
    "#where _is use for protected attribute and __is use for private attribute."
   ]
  },
  {
   "cell_type": "code",
   "execution_count": 24,
   "metadata": {},
   "outputs": [
    {
     "name": "stdout",
     "output_type": "stream",
     "text": [
      "maximum speed : 120\n",
      "maximum speed : 120\n",
      "updated speed is : 300\n"
     ]
    }
   ],
   "source": [
    "class Computer:\n",
    "    def __init__(self):\n",
    "        self.__maxspeed =120\n",
    "    def sell(self):\n",
    "        print(\"maximum speed :\",self.__maxspeed)\n",
    "    def changespeed(self,updeted_speed):\n",
    "        self._maxspeed =updeted_speed\n",
    "        print(\"updated speed is :\",updeted_speed)\n",
    "q =Computer()\n",
    "q.sell()\n",
    "#now we change our speed\n",
    "q.__maxspeed =200\n",
    "q.sell()\n",
    "#(not change speed see in the output)\n",
    "#now we create a one function in class that change a speed\n",
    "q.changespeed(300)"
   ]
  },
  {
   "cell_type": "markdown",
   "metadata": {},
   "source": [
    "# polymorphism"
   ]
  },
  {
   "cell_type": "code",
   "execution_count": 28,
   "metadata": {},
   "outputs": [],
   "source": [
    "#poly means many and morphos means forms.\n",
    "#if a variable,object or method perform different behaviour according to situation it called polymorphism\n",
    "#1)Duck typing\n",
    "#2) operator overloading\n",
    "#3) method overloading\n",
    "#4)methid overriding"
   ]
  },
  {
   "cell_type": "code",
   "execution_count": 35,
   "metadata": {},
   "outputs": [
    {
     "name": "stdout",
     "output_type": "stream",
     "text": [
      "thapak thapak\n",
      "tabdak tabdak\n"
     ]
    }
   ],
   "source": [
    "class Duck:\n",
    "    def walk(self):\n",
    "        print(\"thapak thapak\")\n",
    "class Hourse:\n",
    "    def walk(self):\n",
    "        print(\"tabdak tabdak\")\n",
    "class Cat:\n",
    "    def talk(self):\n",
    "        print(\"meow meow\")\n",
    "        \n",
    "def myfunction(obj):\n",
    "    obj.walk()\n",
    "d =Duck()\n",
    "myfunction(d)\n",
    "h =Hourse()\n",
    "myfunction(h)\n",
    "#c =Cat()\n",
    "#myfunction(c)"
   ]
  },
  {
   "cell_type": "markdown",
   "metadata": {},
   "source": [
    "# Abstaction"
   ]
  },
  {
   "cell_type": "code",
   "execution_count": 37,
   "metadata": {},
   "outputs": [],
   "source": [
    "#one of the key concept of the (oop) language\n",
    "#the main goal is to handle complexity by hidding unnecessary details from the user...\n",
    "#in simple suppose you are going to an ATM to withdrew money.\n",
    "#you simply insert your card and click some button and get the money.\n",
    "#you don't need to know their backgroung process."
   ]
  },
  {
   "cell_type": "code",
   "execution_count": null,
   "metadata": {},
   "outputs": [],
   "source": []
  },
  {
   "cell_type": "code",
   "execution_count": null,
   "metadata": {},
   "outputs": [],
   "source": []
  },
  {
   "cell_type": "code",
   "execution_count": null,
   "metadata": {},
   "outputs": [],
   "source": []
  }
 ],
 "metadata": {
  "kernelspec": {
   "display_name": "Python 3",
   "language": "python",
   "name": "python3"
  },
  "language_info": {
   "codemirror_mode": {
    "name": "ipython",
    "version": 3
   },
   "file_extension": ".py",
   "mimetype": "text/x-python",
   "name": "python",
   "nbconvert_exporter": "python",
   "pygments_lexer": "ipython3",
   "version": "3.8.3"
  }
 },
 "nbformat": 4,
 "nbformat_minor": 4
}
